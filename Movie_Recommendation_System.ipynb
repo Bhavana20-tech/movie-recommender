{
 "cells": [
  {
   "cell_type": "markdown",
   "id": "934ae874",
   "metadata": {},
   "source": [
    "# 🎬 Movie Recommendation System\n",
    "This project builds a simple **content-based movie recommendation system** using Python and scikit-learn."
   ]
  },
  {
   "cell_type": "code",
   "execution_count": 7,
   "id": "aa7b7ba8",
   "metadata": {},
   "outputs": [
    {
     "ename": "ModuleNotFoundError",
     "evalue": "No module named 'pandas'",
     "output_type": "error",
     "traceback": [
      "\u001b[31m---------------------------------------------------------------------------\u001b[39m",
      "\u001b[31mModuleNotFoundError\u001b[39m                       Traceback (most recent call last)",
      "\u001b[36mCell\u001b[39m\u001b[36m \u001b[39m\u001b[32mIn[7]\u001b[39m\u001b[32m, line 2\u001b[39m\n\u001b[32m      1\u001b[39m \u001b[38;5;66;03m# Phase 1: Install & Import Libraries\u001b[39;00m\n\u001b[32m----> \u001b[39m\u001b[32m2\u001b[39m \u001b[38;5;28;01mimport\u001b[39;00m\u001b[38;5;250m \u001b[39m\u001b[34;01mpandas\u001b[39;00m\u001b[38;5;250m \u001b[39m\u001b[38;5;28;01mas\u001b[39;00m\u001b[38;5;250m \u001b[39m\u001b[34;01mpd\u001b[39;00m\n\u001b[32m      3\u001b[39m \u001b[38;5;28;01mfrom\u001b[39;00m\u001b[38;5;250m \u001b[39m\u001b[34;01msklearn\u001b[39;00m\u001b[34;01m.\u001b[39;00m\u001b[34;01mfeature_extraction\u001b[39;00m\u001b[34;01m.\u001b[39;00m\u001b[34;01mtext\u001b[39;00m\u001b[38;5;250m \u001b[39m\u001b[38;5;28;01mimport\u001b[39;00m TfidfVectorizer\n\u001b[32m      4\u001b[39m \u001b[38;5;28;01mfrom\u001b[39;00m\u001b[38;5;250m \u001b[39m\u001b[34;01msklearn\u001b[39;00m\u001b[34;01m.\u001b[39;00m\u001b[34;01mmetrics\u001b[39;00m\u001b[34;01m.\u001b[39;00m\u001b[34;01mpairwise\u001b[39;00m\u001b[38;5;250m \u001b[39m\u001b[38;5;28;01mimport\u001b[39;00m cosine_similarity\n",
      "\u001b[31mModuleNotFoundError\u001b[39m: No module named 'pandas'"
     ]
    }
   ],
   "source": [
    "# Phase 1: Install & Import Libraries\n",
    "import pandas as pd\n",
    "from sklearn.feature_extraction.text import TfidfVectorizer\n",
    "from sklearn.metrics.pairwise import cosine_similarity\n"
   ]
  },
  {
   "cell_type": "code",
   "execution_count": null,
   "id": "79325af0",
   "metadata": {},
   "outputs": [],
   "source": [
    "# Phase 2: Load Dataset\n",
    "# Download from: https://www.kaggle.com/datasets/tmdb/tmdb-movie-metadata\n",
    "df = pd.read_csv(\"tmdb_5000_movies.csv\")\n",
    "\n",
    "# Preview data\n",
    "df.head()\n"
   ]
  },
  {
   "cell_type": "code",
   "execution_count": null,
   "id": "95f2feae",
   "metadata": {},
   "outputs": [],
   "source": [
    "# Phase 3: Select and Clean Features\n",
    "features = ['title', 'genres', 'overview']\n",
    "movies = df[features]\n",
    "movies['overview'] = movies['overview'].fillna('')\n"
   ]
  },
  {
   "cell_type": "code",
   "execution_count": null,
   "id": "4eb56077",
   "metadata": {},
   "outputs": [],
   "source": [
    "# Clean 'genres' field\n",
    "import ast\n",
    "\n",
    "def parse_genres(genres_str):\n",
    "    try:\n",
    "        genres_list = ast.literal_eval(genres_str)\n",
    "        return ' '.join([genre['name'] for genre in genres_list])\n",
    "    except:\n",
    "        return ''\n",
    "\n",
    "movies['genres'] = df['genres'].apply(parse_genres)\n"
   ]
  },
  {
   "cell_type": "code",
   "execution_count": null,
   "id": "8f6158c4",
   "metadata": {},
   "outputs": [],
   "source": [
    "# Combine overview and genres into a single text\n",
    "movies['tags'] = movies['overview'] + ' ' + movies['genres']\n"
   ]
  },
  {
   "cell_type": "code",
   "execution_count": null,
   "id": "2a391d62",
   "metadata": {},
   "outputs": [],
   "source": [
    "# Phase 4: Vectorization using TF-IDF\n",
    "vectorizer = TfidfVectorizer(stop_words='english')\n",
    "vectors = vectorizer.fit_transform(movies['tags'])\n"
   ]
  },
  {
   "cell_type": "code",
   "execution_count": null,
   "id": "6fbb5a41",
   "metadata": {},
   "outputs": [],
   "source": [
    "# Phase 5: Compute Cosine Similarity\n",
    "similarity = cosine_similarity(vectors)\n"
   ]
  },
  {
   "cell_type": "code",
   "execution_count": null,
   "id": "d144d432",
   "metadata": {},
   "outputs": [],
   "source": [
    "# Phase 6: Recommendation Function\n",
    "def recommend(movie_title):\n",
    "    movie_title = movie_title.lower()\n",
    "    if movie_title not in movies['title'].str.lower().values:\n",
    "        return \"Movie not found!\"\n",
    "    \n",
    "    idx = movies[movies['title'].str.lower() == movie_title].index[0]\n",
    "    distances = list(enumerate(similarity[idx]))\n",
    "    movies_list = sorted(distances, key=lambda x: x[1], reverse=True)[1:6]\n",
    "    \n",
    "    print(f\"Top 5 movies similar to '{movies.iloc[idx]['title']}':\\n\")\n",
    "    for i in movies_list:\n",
    "        print(movies.iloc[i[0]]['title'])\n"
   ]
  },
  {
   "cell_type": "code",
   "execution_count": null,
   "id": "d3bf6c87",
   "metadata": {},
   "outputs": [],
   "source": [
    "# Phase 7: Try it Out\n",
    "recommend(\"Avatar\")\n"
   ]
  }
 ],
 "metadata": {
  "kernelspec": {
   "display_name": "Python 3",
   "language": "python",
   "name": "python3"
  },
  "language_info": {
   "codemirror_mode": {
    "name": "ipython",
    "version": 3
   },
   "file_extension": ".py",
   "mimetype": "text/x-python",
   "name": "python",
   "nbconvert_exporter": "python",
   "pygments_lexer": "ipython3",
   "version": "3.11.9"
  }
 },
 "nbformat": 4,
 "nbformat_minor": 5
}
